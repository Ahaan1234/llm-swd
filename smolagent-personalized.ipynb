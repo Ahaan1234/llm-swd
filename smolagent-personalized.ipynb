{
 "cells": [
  {
   "cell_type": "code",
   "execution_count": 14,
   "id": "2acec041",
   "metadata": {},
   "outputs": [],
   "source": [
    "from smolagents import CodeAgent, DuckDuckGoSearchTool, FinalAnswerTool, InferenceClientModel, load_tool, tool, GradioUI\n",
    "import datetime\n",
    "import requests\n",
    "import pytz\n",
    "import yaml\n",
    "# from Gradio_UI import GradioUI\n"
   ]
  },
  {
   "cell_type": "code",
   "execution_count": null,
   "id": "33a57a6f",
   "metadata": {},
   "outputs": [],
   "source": [
    "# TOOLS FOR AGENT\n",
    "\n",
    "@tool\n",
    "def my_custom_tool(arg1:str, arg2:int)->str :\n",
    "    \"\"\"A tool that does nothing yet \n",
    "    Args:\n",
    "        arg1: the first argument\n",
    "        arg2: the second argument\n",
    "    \"\"\"\n",
    "    return \"What magic will you build ?\"\n",
    "\n",
    "@tool\n",
    "def getTimeZone(timezone: str) -> str :\n",
    "    \"\"\"A tool that returns the local time in a given timezone.\n",
    "    Args:\n",
    "        timezone: A string representing a valid timezone.\n",
    "    \"\"\"\n",
    "    try:\n",
    "        tx = pytz.timezone(timezone)\n",
    "        local_time = datetime.datetime.now(tz).strftime(\"%Y-%m-%d %H:%M:%S\")\n",
    "        return f\"The current local time in {timezone} is: {local_time}\"\n",
    "    except:\n",
    "        return f\"Error fetching time for timezone '{timezone}': {str(e)}\"\n",
    "    \n",
    "image_generation_tool = load_tool(\"agents-course/text-to-image\", trust_remote_code=True)"
   ]
  },
  {
   "cell_type": "code",
   "execution_count": null,
   "id": "f1ad58b6",
   "metadata": {},
   "outputs": [],
   "source": [
    "# prompting\n",
    "final_answer = FinalAnswerTool()\n",
    "model = InferenceClientModel(\n",
    "    max_tokens=2096,\n",
    "    temperature=0.5,\n",
    "    model_id='Qwen/Qwen2.5-Coder-32B-Instruct',\n",
    "    custom_role_conversions=None,\n",
    ")\n",
    "\n",
    "with open(\"prompts.yaml\", 'r') as stream:\n",
    "    prompt_templates = yaml.safe_load(stream)\n",
    "\n",
    "agent = CodeAgent(\n",
    "    model=model,\n",
    "    tools=[final_answer, my_custom_tool, getTimeZone], # add your tools here (don't remove final_answer)\n",
    "    max_steps=6,\n",
    "    verbosity_level=1,\n",
    "    grammar=None,\n",
    "    planning_interval=None,\n",
    "    name=None,\n",
    "    description=None,\n",
    "    prompt_templates=prompt_templates\n",
    ")\n",
    "\n",
    "GradioUI(agent).launch()\n"
   ]
  }
 ],
 "metadata": {
  "kernelspec": {
   "display_name": ".venv",
   "language": "python",
   "name": "python3"
  },
  "language_info": {
   "codemirror_mode": {
    "name": "ipython",
    "version": 3
   },
   "file_extension": ".py",
   "mimetype": "text/x-python",
   "name": "python",
   "nbconvert_exporter": "python",
   "pygments_lexer": "ipython3",
   "version": "3.13.0"
  }
 },
 "nbformat": 4,
 "nbformat_minor": 5
}
