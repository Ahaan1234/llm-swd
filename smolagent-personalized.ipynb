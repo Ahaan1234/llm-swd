{
 "cells": [
  {
   "cell_type": "code",
   "execution_count": 3,
   "id": "2acec041",
   "metadata": {},
   "outputs": [],
   "source": [
    "from smolagents import CodeAgent, DuckDuckGoSearchTool, FinalAnswerTool, InferenceClientModel, load_tool, tool\n",
    "import datetime\n",
    "import requests\n",
    "import pytz\n",
    "import yaml"
   ]
  },
  {
   "cell_type": "code",
   "execution_count": null,
   "id": "33a57a6f",
   "metadata": {},
   "outputs": [],
   "source": [
    "# TOOLS FOR AGENT\n",
    "\n",
    "@tool\n",
    "def my_custom_tool(arg1:str, arg2:int)->str :\n",
    "    \"\"\"A tool that does nothing yet \n",
    "    Args:\n",
    "        arg1: the first argument\n",
    "        arg2: the second argument\n",
    "    \"\"\"\n",
    "    return \"What magic will you build ?\"\n",
    "\n",
    "def getTimeZone(timezone: str) -> str :\n",
    "    \"\"\"A tool that returns the local time in a given timezone.\n",
    "    Args:\n",
    "        timezone: A string representing a valid timezone.\n",
    "    \"\"\"\n",
    "    try:\n",
    "        tx = pytz.timezone(timezone)\n",
    "        local_time = datetime.datetime.now(tz).strftime(\"%Y-%m-%d %H:%M:%S\")\n",
    "        return f\"The current local time in {timezone} is: {local_time}\"\n",
    "    except:\n",
    "        return f\"Error fetching time for timezone '{timezone}': {str(e)}\"\n"
   ]
  }
 ],
 "metadata": {
  "kernelspec": {
   "display_name": ".venv",
   "language": "python",
   "name": "python3"
  },
  "language_info": {
   "codemirror_mode": {
    "name": "ipython",
    "version": 3
   },
   "file_extension": ".py",
   "mimetype": "text/x-python",
   "name": "python",
   "nbconvert_exporter": "python",
   "pygments_lexer": "ipython3",
   "version": "3.13.0"
  }
 },
 "nbformat": 4,
 "nbformat_minor": 5
}
