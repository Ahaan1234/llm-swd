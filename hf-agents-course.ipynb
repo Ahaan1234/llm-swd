{
 "cells": [
  {
   "cell_type": "code",
   "execution_count": null,
   "id": "fa7e7cbc",
   "metadata": {},
   "outputs": [],
   "source": [
    "%pip install -q huggingface_hub"
   ]
  }
 ],
 "metadata": {
  "language_info": {
   "name": "python"
  }
 },
 "nbformat": 4,
 "nbformat_minor": 5
}
